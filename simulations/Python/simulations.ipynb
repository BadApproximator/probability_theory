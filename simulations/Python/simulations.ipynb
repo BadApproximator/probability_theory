{
 "cells": [
  {
   "cell_type": "code",
   "execution_count": 2,
   "id": "86a05ffc",
   "metadata": {},
   "outputs": [],
   "source": [
    "import random"
   ]
  },
  {
   "cell_type": "code",
   "execution_count": null,
   "id": "1a100941",
   "metadata": {},
   "outputs": [
    {
     "name": "stdout",
     "output_type": "stream",
     "text": [
      "Results: H T T T T T T T T H T T T H T T H H T H T H T H T T H H H T T H T T H T H H H H T T T H H H T T T T T H H H T T T T H H T H T H T H T H H T H T T H H H T T H H T H T T H T H T H H H H T T H H H T T T T H T T H H T H H H T H H H H T H T H T T H H H T T T H H T H T H T H H T T T T T T H H H T T H T T T T H H T T H H H H T T H T T T T T H T H T H H T T T T T T H H H H T H T T T H H H T T H H H H H T T H H T H H H T T H T T T T H T T H H H H H H H T T H T T H H T T H H H T T T H T H T T H T T T T H T T H T H H H T H T T H H T H T H T H T H T T T H H T H H T H H T T T H H H H H H H T H H H H T H T T T H H T T H H T T H H H T H T H H T T H T H T T H H T T H T H T H T T T T H H H T T T T T T T T T T T T T T H H H T H H T T H H H H T T T T T T T H H T T H T H H H T H T H T T T H H H H H H T T T H T H H H H H H H T T T H T T T H H H T T T H T T H H H T H H T T T T T H H T T H H T T T H H T T T H T T T T T T H T H T T H T H H H H H H T H H T T T T T T H T H H H H H H H T T H H T H T T T H H T T T T H T T T T H T T H T T T T T T H H T T T T H H H H T H H H H T T H T T T H H T T T T H H H H H H H T T T H H H H T T T H H H T T T H T T T H T H T T H T H T H H H H H T H T H T H H T T H H T H T H H H H T H T T H T H T H T H H T T T H T T H T H H T H H H T H H H T H T T T H T H T T T T T H T H H H H H H T H H T H T T T T T H H H T T T H T T T H T H H T H T H T T H H H T T H H H H T T H T T H H H H H T T H T T H T T H H T T H H T T T H T T H T T T H T H H T T H H H T H H H T H T H T T T H H H T T T H T H T T T T T H T H T T H T T H T H T H H H T H T T T H H H H T H T H H H H T T H H T T T T T H H H H H T T T T H T H H H H T H H T H T H H T H T T T H T T T T H H T T T T H H T T T H H H T H H H T T H T T T H H H H T T H H T T H H H H H T H T H T T H H H T T H H T H H T H H T T T H H H H H H T T T H T T H H H T T T H H T T H H T H H T T T H H T H H H T H T H H T T T H H T H T H T T H T T T T T H T H H T T T T H H H H T T H H H T T H H H H H H H H T T H H H T T T T T H H H T H H H T T T\n",
      "Amount of H: 492\n",
      "Percent H: 49.20%\n"
     ]
    }
   ],
   "source": [
    "# This applet prints out random heads and tails, and keeps track\n",
    "# of the number of heads.\n",
    "\n",
    "# Вводим количество подкидываний\n",
    "n = 1000\n",
    "\n",
    "# Переменные для подсчета\n",
    "heads_count = 0\n",
    "results = []\n",
    "\n",
    "# Генерируем n подкидываний\n",
    "for _ in range(n):\n",
    "    flip = random.random()  # Генерация случайного числа от 0 до 1\n",
    "    if flip < 0.5:\n",
    "        results.append(\"T\")  # Обычный орел\n",
    "    else:\n",
    "        results.append(\"H\")  # Обычный решка\n",
    "        heads_count += 1\n",
    "\n",
    "# Выводим результаты\n",
    "print(\"Results:\", \" \".join(results))\n",
    "print(\"Amount of H:\", heads_count)\n",
    "print(f\"Percent H: {heads_count / n * 100:.2f}%\")"
   ]
  },
  {
   "cell_type": "code",
   "execution_count": 12,
   "id": "f73ada29",
   "metadata": {},
   "outputs": [
    {
     "name": "stdout",
     "output_type": "stream",
     "text": [
      "n = 0, proportion: -0.5\n",
      "n = 100, proportion: -0.456\n",
      "n = 200, proportion: -0.40800000000000003\n",
      "n = 300, proportion: -0.362\n",
      "n = 400, proportion: -0.317\n",
      "n = 500, proportion: -0.275\n",
      "n = 600, proportion: -0.23199999999999998\n",
      "n = 700, proportion: -0.183\n",
      "n = 800, proportion: -0.119\n",
      "n = 900, proportion: -0.07\n",
      "n = 1000, proportion: -0.009000000000000008\n",
      "Results: H T T T H T T T T H T H H H T T T H H T T T T T T T T H T T H T H H T H H H T T H H T H T H H H T H H T T H T T H H T T T T H T T H H T H T T T H H T T T H T H T H H H T H T H T T H T H H T H T T T H T T T T T T T H T T H T H H H T T T T H H T H T H T H T H H T T H T H T H H H T H H H H H T H H T T T T T H H T H T T T H H H H T T H T H T H H H H H T H T H T T H T T H H H T T H H T T H H T T T T T H T H T T T T T T H T H T T T H T H H T T H T H T T H T H T H H H H T H T H T H H T T H H T T H H T H T T H T T H T H T T H H H H T H H T T T H H H T T T T H T H T H H H H T H T H T T T T T H T T T H H T H T H T T T T T T H H H T T H H T T H T T H T T H H H H T H T H T T T T H T T H T H H T H T H H H T T T H H H H T T H T H H T H T T T H T T T H T T T H H T T T H H T T H H T T T H T H H T H H T T H T T T H T T H T T H H T T H H H T T T T H H T H T T H H T T T T H H H H T T T H T T T H H T T H T H T H T T T H T T H T T T T H H H H T H H T H T H H T T T T H H H T T T T H T T T T H T T H H T H T T T T T T T H T T T T T H H T T H T T T T T T T H H H T H H T T T H T T T T H H T H T T H T T T T T T T H H T H T H T H T T H H T T H T H H H H T T H T H H H H H H H T H H H T T H H T T T H T H T H H T H T T T T H T H H H T T T T H H H T H T H T H H H H H T H T H H T T T T T T H H H T H T T H H T T H H H T H T H T H H T T T T T T T T H H T H T H T H H T H H T T H H H T T T H H T H T H T H T H H T H T T T H T H T H H H H H H H T H T H T H H H H T T T H H H H H H H T H T T H H H H H T T H H T T T H H T H H H H H H H T H H T H H H H T T T T H H T H H H T H H T H T H H T T H T T H H T H T H H H H H T T H T H H H H H H T H T T H T H T H H H H H T H T H H T T H H T H H T T H H T T H T H T T H T H T T H H T T H H H H T H H T H H T H T T T H T H T T T T H H T T T T T T T T T H T T H H T H H T T T H H T T H T T H T H H H H H T H H T H H H H T H H H T T H H T T H T H H T H T H H H H H T H H H H H T T T T H H H T H T H H T H T H T H T T H T H H T H T H H H H H T H T T H H H T T H T T T H H H H T H\n",
      "Amount of H: 492\n",
      "Percent H: 49.20%\n"
     ]
    }
   ],
   "source": [
    "# Ex. 1\n",
    "n = 1000\n",
    "\n",
    "heads_count = 0\n",
    "results = []\n",
    "\n",
    "# Toss a coin n times\n",
    "for i in range(n+1):\n",
    "    if i % 100 == 0:\n",
    "        print(f\"n = {i}, proportion: {heads_count / n - 1./2}\")\n",
    "\n",
    "    flip = random.random()\n",
    "    if flip < 0.5:\n",
    "        results.append(\"T\")\n",
    "    else:\n",
    "        results.append(\"H\")\n",
    "        heads_count += 1\n",
    "\n",
    "print(\"Results:\", \" \".join(results))\n",
    "print(\"Amount of H:\", heads_count)\n",
    "print(f\"Percent H: {heads_count / n * 100:.2f}%\")"
   ]
  },
  {
   "cell_type": "code",
   "execution_count": null,
   "id": "f2ef6c4d",
   "metadata": {},
   "outputs": [],
   "source": []
  },
  {
   "cell_type": "code",
   "execution_count": null,
   "id": "3984e4ab",
   "metadata": {},
   "outputs": [],
   "source": []
  }
 ],
 "metadata": {
  "kernelspec": {
   "display_name": "Python 3",
   "language": "python",
   "name": "python3"
  },
  "language_info": {
   "codemirror_mode": {
    "name": "ipython",
    "version": 3
   },
   "file_extension": ".py",
   "mimetype": "text/x-python",
   "name": "python",
   "nbconvert_exporter": "python",
   "pygments_lexer": "ipython3",
   "version": "3.13.1"
  }
 },
 "nbformat": 4,
 "nbformat_minor": 5
}
