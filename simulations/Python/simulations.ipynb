{
 "cells": [
  {
   "cell_type": "code",
   "execution_count": 4,
   "id": "86a05ffc",
   "metadata": {},
   "outputs": [],
   "source": [
    "import random"
   ]
  },
  {
   "cell_type": "code",
   "execution_count": null,
   "id": "1a100941",
   "metadata": {},
   "outputs": [
    {
     "name": "stdout",
     "output_type": "stream",
     "text": [
      "Results: H T T T T T T T T H T T T H T T H H T H T H T H T T H H H T T H T T H T H H H H T T T H H H T T T T T H H H T T T T H H T H T H T H T H H T H T T H H H T T H H T H T T H T H T H H H H T T H H H T T T T H T T H H T H H H T H H H H T H T H T T H H H T T T H H T H T H T H H T T T T T T H H H T T H T T T T H H T T H H H H T T H T T T T T H T H T H H T T T T T T H H H H T H T T T H H H T T H H H H H T T H H T H H H T T H T T T T H T T H H H H H H H T T H T T H H T T H H H T T T H T H T T H T T T T H T T H T H H H T H T T H H T H T H T H T H T T T H H T H H T H H T T T H H H H H H H T H H H H T H T T T H H T T H H T T H H H T H T H H T T H T H T T H H T T H T H T H T T T T H H H T T T T T T T T T T T T T T H H H T H H T T H H H H T T T T T T T H H T T H T H H H T H T H T T T H H H H H H T T T H T H H H H H H H T T T H T T T H H H T T T H T T H H H T H H T T T T T H H T T H H T T T H H T T T H T T T T T T H T H T T H T H H H H H H T H H T T T T T T H T H H H H H H H T T H H T H T T T H H T T T T H T T T T H T T H T T T T T T H H T T T T H H H H T H H H H T T H T T T H H T T T T H H H H H H H T T T H H H H T T T H H H T T T H T T T H T H T T H T H T H H H H H T H T H T H H T T H H T H T H H H H T H T T H T H T H T H H T T T H T T H T H H T H H H T H H H T H T T T H T H T T T T T H T H H H H H H T H H T H T T T T T H H H T T T H T T T H T H H T H T H T T H H H T T H H H H T T H T T H H H H H T T H T T H T T H H T T H H T T T H T T H T T T H T H H T T H H H T H H H T H T H T T T H H H T T T H T H T T T T T H T H T T H T T H T H T H H H T H T T T H H H H T H T H H H H T T H H T T T T T H H H H H T T T T H T H H H H T H H T H T H H T H T T T H T T T T H H T T T T H H T T T H H H T H H H T T H T T T H H H H T T H H T T H H H H H T H T H T T H H H T T H H T H H T H H T T T H H H H H H T T T H T T H H H T T T H H T T H H T H H T T T H H T H H H T H T H H T T T H H T H T H T T H T T T T T H T H H T T T T H H H H T T H H H T T H H H H H H H H T T H H H T T T T T H H H T H H H T T T\n",
      "Amount of H: 492\n",
      "Percent H: 49.20%\n"
     ]
    }
   ],
   "source": [
    "# This applet prints out random heads and tails, and keeps track\n",
    "# of the number of heads.\n",
    "\n",
    "# Вводим количество подкидываний\n",
    "n = 1000\n",
    "\n",
    "# Переменные для подсчета\n",
    "heads_count = 0\n",
    "results = []\n",
    "\n",
    "# Генерируем n подкидываний\n",
    "for _ in range(n):\n",
    "    flip = random.random()  # Генерация случайного числа от 0 до 1\n",
    "    if flip < 0.5:\n",
    "        results.append(\"T\")  # Обычный орел\n",
    "    else:\n",
    "        results.append(\"H\")  # Обычный решка\n",
    "        heads_count += 1\n",
    "\n",
    "# Выводим результаты\n",
    "print(\"Results:\", \" \".join(results))\n",
    "print(\"Amount of H:\", heads_count)\n",
    "print(f\"Percent H: {heads_count / n * 100:.2f}%\")"
   ]
  }
 ],
 "metadata": {
  "kernelspec": {
   "display_name": "Python 3",
   "language": "python",
   "name": "python3"
  },
  "language_info": {
   "codemirror_mode": {
    "name": "ipython",
    "version": 3
   },
   "file_extension": ".py",
   "mimetype": "text/x-python",
   "name": "python",
   "nbconvert_exporter": "python",
   "pygments_lexer": "ipython3",
   "version": "3.13.1"
  }
 },
 "nbformat": 4,
 "nbformat_minor": 5
}
